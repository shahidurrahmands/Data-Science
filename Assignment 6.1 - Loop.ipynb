{
 "cells": [
  {
   "cell_type": "code",
   "execution_count": 1,
   "id": "2808a14a",
   "metadata": {},
   "outputs": [],
   "source": [
    "#!pip install gspread"
   ]
  },
  {
   "cell_type": "code",
   "execution_count": 2,
   "id": "a9eceae4",
   "metadata": {},
   "outputs": [],
   "source": [
    "import pandas as pd\n",
    "import gspread\n",
    "from sklearn.preprocessing import LabelEncoder, OneHotEncoder\n",
    "\n",
    "gc = gspread.service_account(filename = \"C:\\\\Users\\\\Lenovo\\\\Downloads\\\\iquestproject01-432e62a666e3.json\")"
   ]
  },
  {
   "cell_type": "code",
   "execution_count": 3,
   "id": "3cc8a4f3",
   "metadata": {},
   "outputs": [],
   "source": [
    "sheet = gc.open_by_url(\"https://docs.google.com/spreadsheets/d/1HTk2uncwoG1taSqwGkQDzy-HsuH5oZSRuVYlYgmjnmw/edit?usp=sharing\")"
   ]
  },
  {
   "cell_type": "code",
   "execution_count": 4,
   "id": "d14b927c",
   "metadata": {},
   "outputs": [],
   "source": [
    "ws = sheet.worksheet('supershops')"
   ]
  },
  {
   "cell_type": "code",
   "execution_count": 5,
   "id": "4dfc371d",
   "metadata": {},
   "outputs": [
    {
     "data": {
      "text/html": [
       "<div>\n",
       "<style scoped>\n",
       "    .dataframe tbody tr th:only-of-type {\n",
       "        vertical-align: middle;\n",
       "    }\n",
       "\n",
       "    .dataframe tbody tr th {\n",
       "        vertical-align: top;\n",
       "    }\n",
       "\n",
       "    .dataframe thead th {\n",
       "        text-align: right;\n",
       "    }\n",
       "</style>\n",
       "<table border=\"1\" class=\"dataframe\">\n",
       "  <thead>\n",
       "    <tr style=\"text-align: right;\">\n",
       "      <th></th>\n",
       "      <th>Marketing Spend</th>\n",
       "      <th>Administration</th>\n",
       "      <th>Transport</th>\n",
       "      <th>Area</th>\n",
       "      <th>Profit</th>\n",
       "    </tr>\n",
       "  </thead>\n",
       "  <tbody>\n",
       "    <tr>\n",
       "      <th>0</th>\n",
       "      <td>114523.61</td>\n",
       "      <td>136897.80</td>\n",
       "      <td>471784.1</td>\n",
       "      <td>Dhaka</td>\n",
       "      <td>192261.83</td>\n",
       "    </tr>\n",
       "    <tr>\n",
       "      <th>1</th>\n",
       "      <td>162597.70</td>\n",
       "      <td>151377.59</td>\n",
       "      <td>443898.53</td>\n",
       "      <td>Ctg</td>\n",
       "      <td>191792.06</td>\n",
       "    </tr>\n",
       "    <tr>\n",
       "      <th>2</th>\n",
       "      <td>153441.51</td>\n",
       "      <td>101145.55</td>\n",
       "      <td>407934.54</td>\n",
       "      <td>Rangpur</td>\n",
       "      <td>191050.39</td>\n",
       "    </tr>\n",
       "    <tr>\n",
       "      <th>3</th>\n",
       "      <td>144372.41</td>\n",
       "      <td>118671.85</td>\n",
       "      <td>383199.62</td>\n",
       "      <td>Dhaka</td>\n",
       "      <td>182901.99</td>\n",
       "    </tr>\n",
       "    <tr>\n",
       "      <th>4</th>\n",
       "      <td>142107.34</td>\n",
       "      <td>91391.77</td>\n",
       "      <td>366168.42</td>\n",
       "      <td>Rangpur</td>\n",
       "      <td>166187.94</td>\n",
       "    </tr>\n",
       "  </tbody>\n",
       "</table>\n",
       "</div>"
      ],
      "text/plain": [
       "   Marketing Spend  Administration  Transport     Area     Profit\n",
       "0        114523.61       136897.80   471784.1    Dhaka  192261.83\n",
       "1        162597.70       151377.59  443898.53      Ctg  191792.06\n",
       "2        153441.51       101145.55  407934.54  Rangpur  191050.39\n",
       "3        144372.41       118671.85  383199.62    Dhaka  182901.99\n",
       "4        142107.34        91391.77  366168.42  Rangpur  166187.94"
      ]
     },
     "execution_count": 5,
     "metadata": {},
     "output_type": "execute_result"
    }
   ],
   "source": [
    "df = pd.DataFrame(ws.get_all_records())\n",
    "df.head()"
   ]
  },
  {
   "cell_type": "code",
   "execution_count": 6,
   "id": "d1096141",
   "metadata": {},
   "outputs": [],
   "source": [
    "x =  df.drop('Profit', axis=1)"
   ]
  },
  {
   "cell_type": "code",
   "execution_count": null,
   "id": "c5f12050",
   "metadata": {},
   "outputs": [],
   "source": [
    "x.head()"
   ]
  },
  {
   "cell_type": "markdown",
   "id": "72134b1d",
   "metadata": {},
   "source": [
    "# Measure of Central Tendency"
   ]
  },
  {
   "cell_type": "code",
   "execution_count": null,
   "id": "bde08237",
   "metadata": {},
   "outputs": [],
   "source": [
    "df.isnull().sum()"
   ]
  },
  {
   "cell_type": "code",
   "execution_count": null,
   "id": "68cfd60c",
   "metadata": {},
   "outputs": [],
   "source": [
    "df[19:20]"
   ]
  },
  {
   "cell_type": "code",
   "execution_count": null,
   "id": "6fa9b088",
   "metadata": {},
   "outputs": [],
   "source": [
    "df['Transport'] = pd.to_numeric(df['Transport'], errors='coerce')\n",
    "df['Transport'] = df['Transport'].fillna(df['Transport'].mean())"
   ]
  },
  {
   "cell_type": "code",
   "execution_count": null,
   "id": "78821364",
   "metadata": {},
   "outputs": [],
   "source": [
    "df.Transport.median()"
   ]
  },
  {
   "cell_type": "code",
   "execution_count": null,
   "id": "486c1762",
   "metadata": {},
   "outputs": [],
   "source": [
    "df.Transport.mean()"
   ]
  },
  {
   "cell_type": "code",
   "execution_count": null,
   "id": "00bce71b",
   "metadata": {},
   "outputs": [],
   "source": [
    "df.Transport.min()\n"
   ]
  },
  {
   "cell_type": "code",
   "execution_count": null,
   "id": "73b54537",
   "metadata": {},
   "outputs": [],
   "source": [
    "df.Transport.max()"
   ]
  },
  {
   "cell_type": "code",
   "execution_count": null,
   "id": "635787c3",
   "metadata": {},
   "outputs": [],
   "source": [
    "df.isnull().sum()"
   ]
  },
  {
   "cell_type": "markdown",
   "id": "c51c0014",
   "metadata": {},
   "source": [
    "# Label Encoder"
   ]
  },
  {
   "cell_type": "code",
   "execution_count": null,
   "id": "ec972d40",
   "metadata": {},
   "outputs": [],
   "source": [
    "\n",
    "\n",
    "def lebel_encoder(df,col):\n",
    "    label_map = {}\n",
    "    encoded_value = []\n",
    "    \n",
    "    for instance in df[col]:\n",
    "        if instance not in label_map:\n",
    "            label_map[instance] = len(label_map)\n",
    "        encoded_value.append(label_map[instance])\n",
    "    return encoded_value, label_map\n",
    "\n",
    "encoded_value, label_map = label_encoder(x, 'Area')\n",
    "x.Area = encoded_value\n",
    "\n"
   ]
  },
  {
   "cell_type": "code",
   "execution_count": null,
   "id": "4cf0d9dc",
   "metadata": {},
   "outputs": [],
   "source": [
    "from sklearn.preprocessing import LabelEncoder, OneHotEncoder\n",
    "\n",
    "le = LabelEncoder()\n",
    "df1= df.copy()"
   ]
  },
  {
   "cell_type": "code",
   "execution_count": null,
   "id": "cd311c16",
   "metadata": {},
   "outputs": [],
   "source": [
    "def label_encoder(data, columns):\n",
    "\n",
    "    label_maps = {}  \n",
    "    encoded_values = {} \n",
    "\n",
    "    for col in columns:\n",
    "    \n",
    "        category_map = {}\n",
    "        for value in data[col]:\n",
    "            if value not in category_map:\n",
    "                category_map[value] = len(category_map)\n",
    "            encoded_value = category_map[value]\n",
    "            encoded_values.setdefault(col, []).append(encoded_value)\n",
    "        label_maps[col] = category_map\n",
    "\n",
    "\n",
    "    for col in columns:\n",
    "        data[col] = encoded_values[col]\n",
    "\n",
    "    return encoded_values, label_maps\n",
    "\n",
    "columns_to_encode = ['Area']\n",
    "encoded_values, label_maps = label_encoder(x, columns_to_encode)\n",
    "#x.head()\n"
   ]
  },
  {
   "cell_type": "markdown",
   "id": "af0fa8b0",
   "metadata": {},
   "source": [
    "# Loop"
   ]
  },
  {
   "cell_type": "code",
   "execution_count": null,
   "id": "bf273847",
   "metadata": {},
   "outputs": [],
   "source": [
    "df2 = df.copy()\n",
    "\n",
    "columns_to_encode = ['Marketing Spend', 'Administration', 'Transport']\n",
    "\n",
    "for col in columns_to_encode:\n",
    "    dummy_columns = pd.get_dummies(df2[col], prefix=col)\n",
    "    df2 = pd.concat([df2, dummy_columns], axis=1)\n",
    "    df2.drop(col, axis=1, inplace=True)\n",
    "\n",
    "df2.head()\n"
   ]
  },
  {
   "cell_type": "markdown",
   "id": "49b9c3aa",
   "metadata": {},
   "source": [
    "# One Hot Encoder"
   ]
  },
  {
   "cell_type": "code",
   "execution_count": null,
   "id": "ba499683",
   "metadata": {},
   "outputs": [],
   "source": [
    "import pandas as pd\n",
    "from sklearn.preprocessing import OneHotEncoder\n",
    "import warnings\n",
    "warnings.filterwarnings('ignore')\n",
    "\n",
    "df2 = df.copy()\n",
    "columns_to_encode = ['Marketing Spend', 'Administration', 'Transport']\n",
    "\n",
    "encoder = OneHotEncoder(sparse=False, drop='first')\n",
    "\n",
    "encoder.fit(df2[columns_to_encode])\n",
    "\n",
    "dummy_data = encoder.transform(df2[columns_to_encode])\n",
    "\n",
    "column_names = []\n",
    "for i, col in enumerate(columns_to_encode):\n",
    "    unique_categories = df2[col].unique()\n",
    "    for j in range(1, len(unique_categories)):\n",
    "        column_names.append(f\"{col}_{j}\")\n",
    "\n",
    "dummy_df = pd.DataFrame(dummy_data, columns=column_names)\n",
    "\n",
    "df2 = pd.concat([df2, dummy_df], axis=1)\n",
    "\n",
    "df2.drop(columns_to_encode, axis=1, inplace=True)\n",
    "\n",
    "#df2.head()\n"
   ]
  },
  {
   "cell_type": "code",
   "execution_count": null,
   "id": "bf6bc24e",
   "metadata": {},
   "outputs": [],
   "source": [
    "df2.Area.unique()"
   ]
  },
  {
   "cell_type": "markdown",
   "id": "2d93eef5",
   "metadata": {},
   "source": [
    "# Ordinal"
   ]
  },
  {
   "cell_type": "code",
   "execution_count": null,
   "id": "955ec660",
   "metadata": {},
   "outputs": [],
   "source": [
    "from sklearn.preprocessing import LabelEncoder\n",
    "\n",
    "label_encoder = LabelEncoder()\n",
    "\n",
    "encoded_area = label_encoder.fit_transform(df2['Area'])\n",
    "\n",
    "df2['Area'] = encoded_area\n",
    "\n",
    "#df2.head()\n"
   ]
  }
 ],
 "metadata": {
  "kernelspec": {
   "display_name": "Python 3 (ipykernel)",
   "language": "python",
   "name": "python3"
  },
  "language_info": {
   "codemirror_mode": {
    "name": "ipython",
    "version": 3
   },
   "file_extension": ".py",
   "mimetype": "text/x-python",
   "name": "python",
   "nbconvert_exporter": "python",
   "pygments_lexer": "ipython3",
   "version": "3.10.9"
  }
 },
 "nbformat": 4,
 "nbformat_minor": 5
}
