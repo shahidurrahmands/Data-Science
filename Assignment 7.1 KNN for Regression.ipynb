{
 "cells": [
  {
   "cell_type": "code",
   "execution_count": 8,
   "id": "9a747ca0",
   "metadata": {},
   "outputs": [
    {
     "name": "stdout",
     "output_type": "stream",
     "text": [
      "Comparison KNN VS LR    KNN Prediction  Linear Regression Prediction\n",
      "0       60.333333                      60.97069\n"
     ]
    }
   ],
   "source": [
    "import pandas as pd\n",
    "from sklearn.neighbors import KNeighborsRegressor\n",
    "from sklearn.linear_model import LinearRegression\n",
    "import warnings\n",
    "warnings.filterwarnings('ignore')\n",
    "\n",
    "dataset = {'age': [21, 20, 22, 22, 23, 21, 25, 30, 31],\n",
    "        'income': [60, 55, 60, 61, 65, 62, 65, 70, 68]}\n",
    "\n",
    "df = pd.DataFrame(dataset)\n",
    "\n",
    "X = df[['age']]\n",
    "y = df['income']\n",
    "\n",
    "knn_model = KNeighborsRegressor(n_neighbors=3)\n",
    "knn_model.fit(X, y)\n",
    "\n",
    "predicted_income_knn = knn_model.predict([[22]])\n",
    "#print(predicted_income_knn)\n",
    "\n",
    "linear_model = LinearRegression()\n",
    "linear_model.fit(X, y)\n",
    "\n",
    "predicted_income_lr = linear_model.predict([[22]])\n",
    "#print(predicted_income_lr)\n",
    "\n",
    "# comparison KNN VS LR\n",
    "comparison_data = {'KNN Prediction': [predicted_income_knn[0]], 'Linear Regression Prediction': [predicted_income_lr[0]]}\n",
    "comparison_df = pd.DataFrame(comparison_data)\n",
    "print('Comparison KNN VS LR', comparison_df)\n",
    "\n",
    "# Import the DataFrame to Excel file\n",
    "comparison_df.to_excel('KNN_Vs_Linear_Regression_prediction_comparison.xlsx', index=False)\n"
   ]
  },
  {
   "cell_type": "code",
   "execution_count": null,
   "id": "20637352",
   "metadata": {},
   "outputs": [],
   "source": []
  }
 ],
 "metadata": {
  "kernelspec": {
   "display_name": "Python 3 (ipykernel)",
   "language": "python",
   "name": "python3"
  },
  "language_info": {
   "codemirror_mode": {
    "name": "ipython",
    "version": 3
   },
   "file_extension": ".py",
   "mimetype": "text/x-python",
   "name": "python",
   "nbconvert_exporter": "python",
   "pygments_lexer": "ipython3",
   "version": "3.10.9"
  }
 },
 "nbformat": 4,
 "nbformat_minor": 5
}
