{
 "cells": [
  {
   "cell_type": "code",
   "execution_count": null,
   "id": "de8862f7",
   "metadata": {},
   "outputs": [],
   "source": [
    "import pandas as pd\n",
    "import numpy as np\n",
    "from sklearn.preprocessing import MinMaxScaler, StandardScaler, RobustScaler, MaxAbsScaler\n",
    "\n",
    "price_data = [110, 105, 115, 120, 110, 130, 150, 100, 105]\n",
    "df = pd.DataFrame(price_data, columns=[\"Price\"])\n",
    "\n",
    "# Normalization\n",
    "min_price = df['Price'].min()\n",
    "max_price = df['Price'].max()\n",
    "min_max_scaler = MinMaxScaler()\n",
    "normalized_data = min_max_scaler.fit_transform(df[\"Price\"].values.reshape(-1, 1))\n",
    "df[\"Normalized Price\"] = normalized_data\n",
    "\n",
    "# Standardization\n",
    "standard_scaler = StandardScaler()\n",
    "standardized_data = standard_scaler.fit_transform(df[\"Price\"].values.reshape(-1, 1))\n",
    "df[\"Standardized Price\"] = standardized_data\n",
    "\n",
    "# Log Transformation\n",
    "log_transformer= FunctionTransformer(np.log1p)\n",
    "df['Log Transformation Price'] = log_transformer.fit_transform(df[['Price']])\n",
    "\n",
    "\n",
    "# Robust Scaler\n",
    "robust_scaler = RobustScaler()\n",
    "robust_scaled_data = robust_scaler.fit_transform(df[\"Price\"].values.reshape(-1, 1))\n",
    "df[\"Robust Scaled Price\"] = robust_scaled_data\n",
    "\n",
    "\n",
    "# Max Absolute Scaler\n",
    "max_abs_scaler = MaxAbsScaler()\n",
    "max_abs_scaled_data = max_abs_scaler.fit_transform(df[\"Price\"].values.reshape(-1, 1))\n",
    "df[\"Max Absolute Scaled Price\"] = max_abs_scaled_data\n",
    "\n",
    "# Create an Excel file\n",
    "with pd.ExcelWriter('price_data.xlsx') as writer:\n",
    "    df.to_excel(writer, sheet_name='Price Data')\n"
   ]
  }
 ],
 "metadata": {
  "kernelspec": {
   "display_name": "Python 3 (ipykernel)",
   "language": "python",
   "name": "python3"
  },
  "language_info": {
   "codemirror_mode": {
    "name": "ipython",
    "version": 3
   },
   "file_extension": ".py",
   "mimetype": "text/x-python",
   "name": "python",
   "nbconvert_exporter": "python",
   "pygments_lexer": "ipython3",
   "version": "3.10.9"
  }
 },
 "nbformat": 4,
 "nbformat_minor": 5
}
